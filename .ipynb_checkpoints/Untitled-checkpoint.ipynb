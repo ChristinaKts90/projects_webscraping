{
 "cells": [
  {
   "cell_type": "code",
   "execution_count": 5,
   "metadata": {},
   "outputs": [],
   "source": [
    "from lxml import html\n",
    "import scrapy\n",
    "import requests\n",
    "import bs4"
   ]
  },
  {
   "cell_type": "code",
   "execution_count": 6,
   "metadata": {},
   "outputs": [],
   "source": [
    "page = requests.get('http://econpy.pythonanywhere.com/ex/001.html')\n",
    "tree = html.fromstring(page.content)"
   ]
  },
  {
   "cell_type": "code",
   "execution_count": 16,
   "metadata": {},
   "outputs": [],
   "source": [
    "#This will create a list of buyers:\n",
    "buyers = tree.xpath('//div[@title=\"buyer-name\"]/text()')\n",
    "#This will create a list of prices\n",
    "prices = tree.xpath('//span[@class=\"item-price\"]/text()')"
   ]
  },
  {
   "cell_type": "code",
   "execution_count": 17,
   "metadata": {},
   "outputs": [
    {
     "data": {
      "text/plain": [
       "['Carson Busses',\n",
       " 'Earl E. Byrd',\n",
       " 'Patty Cakes',\n",
       " 'Derri Anne Connecticut',\n",
       " 'Moe Dess',\n",
       " 'Leda Doggslife',\n",
       " 'Dan Druff',\n",
       " 'Al Fresco',\n",
       " 'Ido Hoe',\n",
       " 'Howie Kisses',\n",
       " 'Len Lease',\n",
       " 'Phil Meup',\n",
       " 'Ira Pent',\n",
       " 'Ben D. Rules',\n",
       " 'Ave Sectomy',\n",
       " 'Gary Shattire',\n",
       " 'Bobbi Soks',\n",
       " 'Sheila Takya',\n",
       " 'Rose Tattoo',\n",
       " 'Moe Tell']"
      ]
     },
     "execution_count": 17,
     "metadata": {},
     "output_type": "execute_result"
    }
   ],
   "source": [
    "buyers"
   ]
  },
  {
   "cell_type": "code",
   "execution_count": 9,
   "metadata": {},
   "outputs": [
    {
     "data": {
      "text/plain": [
       "['$29.95',\n",
       " '$8.37',\n",
       " '$15.26',\n",
       " '$19.25',\n",
       " '$19.25',\n",
       " '$13.99',\n",
       " '$31.57',\n",
       " '$8.49',\n",
       " '$14.47',\n",
       " '$15.86',\n",
       " '$11.11',\n",
       " '$15.98',\n",
       " '$16.27',\n",
       " '$7.50',\n",
       " '$50.85',\n",
       " '$14.26',\n",
       " '$5.68',\n",
       " '$15.00',\n",
       " '$114.07',\n",
       " '$10.09']"
      ]
     },
     "execution_count": 9,
     "metadata": {},
     "output_type": "execute_result"
    }
   ],
   "source": [
    "prices"
   ]
  },
  {
   "cell_type": "code",
   "execution_count": null,
   "metadata": {},
   "outputs": [],
   "source": []
  }
 ],
 "metadata": {
  "kernelspec": {
   "display_name": "Python 3",
   "language": "python",
   "name": "python3"
  },
  "language_info": {
   "codemirror_mode": {
    "name": "ipython",
    "version": 3
   },
   "file_extension": ".py",
   "mimetype": "text/x-python",
   "name": "python",
   "nbconvert_exporter": "python",
   "pygments_lexer": "ipython3",
   "version": "3.7.7"
  }
 },
 "nbformat": 4,
 "nbformat_minor": 4
}
